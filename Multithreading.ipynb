{
 "cells": [
  {
   "cell_type": "code",
   "execution_count": null,
   "id": "2b530020-8f7a-4494-9f28-35e3d32471aa",
   "metadata": {},
   "outputs": [],
   "source": [
    "Q1. What is multithreading in python? Why is it used? Name the module used to handle threads in python.\n",
    "\n",
    "Multithreading is used to run the program concurrently in a processor. Multithreading has the ability to switch between threads due to any manual or i/o process\n",
    "This lets the multithreading have frequent switches and appears to be run parallely\n",
    "\n",
    "threading module is used to handle threads\n"
   ]
  },
  {
   "cell_type": "raw",
   "id": "2849043b-8110-4a76-8dc7-e38bf3e82c77",
   "metadata": {},
   "source": [
    "Q2. Why threading module used? Write the use of the following functions\u001d",
    "\n",
    "active_count\n",
    "currentthread\n",
    "enumerate\n",
    "\n",
    "Threading module is used impement multiple threading in a processor.\n",
    "\n",
    "activecount- This function lets the user know about the threads that are currntly active\n",
    "currentthread- This function lets the user know about the current thread object\n",
    "enumerate- this function returns the list of thread objects currently alive\n",
    "\n"
   ]
  },
  {
   "cell_type": "code",
   "execution_count": null,
   "id": "1dcdcddb-508c-4993-b3a8-77064dbe1f77",
   "metadata": {},
   "outputs": [],
   "source": [
    "Q3. Explain the following functions\u001d",
    "\n",
    "run\n",
    "start\n",
    "join\n",
    "isAlive()\n",
    "\n",
    "run - This will run the program in the avaialble thread\n",
    "start - This wil create new thread in the program\n",
    "join - This method will jump to the next thread only after the current thread is completly read\n",
    "isAlive - This method returns bool value whether the thread is alive or not\n"
   ]
  },
  {
   "cell_type": "code",
   "execution_count": null,
   "id": "f2fe9d80-de33-4240-989b-18ecbaf90511",
   "metadata": {},
   "outputs": [],
   "source": [
    "Q4. Write a python program to create two threads. Thread one must print the list of squares and thread\n",
    "two must print the list of cubes.\n",
    "\n",
    "def sq(x):\n",
    "    print(x**2)\n",
    "    print(\"square\")\n",
    "def cb(x):\n",
    "    print(\"cube\")\n",
    "    print(x**3)\n",
    "tsq=[threading.Thread(target=sq,args=(i,)) for i in [1,2,3,4,5,6,7,8,9]]\n",
    "tcu=[threading.Thread(target=cb,args=(i,)) for i in [22,33,44,55,66,77,88]]\n",
    "\n",
    "for i in tsq:\n",
    "    i.start()\n",
    "for i in tcu:\n",
    "    i.start()\n"
   ]
  },
  {
   "cell_type": "code",
   "execution_count": null,
   "id": "7f33e301-ba76-4b74-9338-82e5cc342808",
   "metadata": {},
   "outputs": [],
   "source": [
    "Q5. State advantages and disadvantages of multithreading.\n",
    "\n",
    "The advanatges are \n",
    "1.improved performance\n",
    "2.better respose\n",
    "3.better utilization\n",
    "\n",
    "the disadvantages are\n",
    "1.unpredicatbe results"
   ]
  },
  {
   "cell_type": "code",
   "execution_count": null,
   "id": "14c28ad3-fa2e-4863-91e2-199a33694dcf",
   "metadata": {},
   "outputs": [],
   "source": [
    "\n",
    "Q6. Explain deadlocks and race conditions.\n",
    "\n",
    "The race condition occurs when the global variable is  shared with the multiple threads, in the event of updating the global variable value\n",
    "\n",
    "when the mutiple threads shares and updates the variable, then the value of the global variable is assigned based on the recently ran thread rather than following a sequence\n",
    "this leads to ambiguity. This is called race condition\n",
    "\n",
    "To overcome this situation we use deadlocks which will never let the other thread to access the "
   ]
  },
  {
   "cell_type": "code",
   "execution_count": null,
   "id": "67581f3a-60a5-45fa-8b00-ca5c56d73466",
   "metadata": {},
   "outputs": [],
   "source": []
  },
  {
   "cell_type": "code",
   "execution_count": 63,
   "id": "465a1f18-9d5f-4fa2-b029-c09a4b5abe55",
   "metadata": {},
   "outputs": [],
   "source": [
    "import time"
   ]
  },
  {
   "cell_type": "code",
   "execution_count": 10,
   "id": "b14c4345-e27c-49cd-a59a-cac30cc85d15",
   "metadata": {},
   "outputs": [],
   "source": [
    "import threading"
   ]
  },
  {
   "cell_type": "code",
   "execution_count": 67,
   "id": "1ab7bb1a-1164-44d9-b192-6c2e6f718b39",
   "metadata": {},
   "outputs": [
    {
     "name": "stdout",
     "output_type": "stream",
     "text": [
      "1\n",
      "square\n",
      "4\n",
      "square\n",
      "9\n",
      "square\n",
      "16\n",
      "square\n",
      "25\n",
      "square\n",
      "36\n",
      "square\n",
      "49\n",
      "square\n",
      "64\n",
      "square\n",
      "81\n",
      "square\n",
      "cube\n",
      "10648\n",
      "cube\n",
      "35937\n",
      "cube\n",
      "85184\n",
      "cube\n",
      "166375\n",
      "cube\n",
      "287496\n",
      "cube\n",
      "456533\n",
      "cube\n",
      "681472\n"
     ]
    }
   ],
   "source": [
    "\n"
   ]
  },
  {
   "cell_type": "code",
   "execution_count": 58,
   "id": "ff386913-6ee1-4829-98cb-685a2b5b2449",
   "metadata": {},
   "outputs": [
    {
     "name": "stdout",
     "output_type": "stream",
     "text": [
      "False\n",
      "1\n",
      "False\n",
      "False\n",
      "8\n",
      "False\n",
      "False\n",
      "27\n",
      "False\n",
      "False\n",
      "64\n",
      "False\n",
      "False\n",
      "125\n",
      "False\n",
      "False\n",
      "216\n",
      "False\n",
      "False\n",
      "343\n",
      "False\n",
      "False\n",
      "512\n",
      "False\n",
      "False\n",
      "729\n",
      "False\n",
      "8\n"
     ]
    }
   ],
   "source": [
    "for i in t:\n",
    "    print(i.is_alive())\n",
    "    i.run()\n",
    "    print(i.is_alive())\n",
    "print(threading.active_count())"
   ]
  },
  {
   "cell_type": "code",
   "execution_count": null,
   "id": "fed5e83a-8368-451a-9f23-f9daaa6332ec",
   "metadata": {},
   "outputs": [],
   "source": []
  },
  {
   "cell_type": "code",
   "execution_count": null,
   "id": "5c4bc564-62c0-4c07-84da-0f3deff76016",
   "metadata": {},
   "outputs": [],
   "source": []
  },
  {
   "cell_type": "code",
   "execution_count": null,
   "id": "fdf87763-05a1-4afd-9dfe-1e1f9940d34c",
   "metadata": {},
   "outputs": [],
   "source": []
  },
  {
   "cell_type": "code",
   "execution_count": null,
   "id": "b91e8bc6-1450-4a6a-af7b-27658e82a4b2",
   "metadata": {},
   "outputs": [],
   "source": []
  }
 ],
 "metadata": {
  "kernelspec": {
   "display_name": "Python 3 (ipykernel)",
   "language": "python",
   "name": "python3"
  },
  "language_info": {
   "codemirror_mode": {
    "name": "ipython",
    "version": 3
   },
   "file_extension": ".py",
   "mimetype": "text/x-python",
   "name": "python",
   "nbconvert_exporter": "python",
   "pygments_lexer": "ipython3",
   "version": "3.10.8"
  }
 },
 "nbformat": 4,
 "nbformat_minor": 5
}
